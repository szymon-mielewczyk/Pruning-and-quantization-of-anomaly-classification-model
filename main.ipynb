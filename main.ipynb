{
 "cells": [
  {
   "cell_type": "code",
   "execution_count": 1,
   "metadata": {},
   "outputs": [],
   "source": [
    "import os\n",
    "import librosa\n",
    "import random\n",
    "import torch\n",
    "\n",
    "import numpy as np\n",
    "import matplotlib.pyplot as plt\n",
    "import torch.nn as nn\n",
    "import torch.nn.functional as F\n",
    "import tqdm as tqdm\n",
    "\n",
    "from torch.utils.data import Dataset\n",
    "from torch.utils.data import DataLoader\n",
    "import lightning as L\n",
    "import torchmetrics\n",
    "from sklearn.metrics import f1_score, accuracy_score\n",
    "import torch.nn.utils.prune as prune\n",
    "\n",
    "import time\n",
    "\n",
    "import torch\n",
    "torch.manual_seed(0)\n",
    "random.seed(0)\n",
    "np.random.seed(0)"
   ]
  },
  {
   "cell_type": "code",
   "execution_count": 14,
   "metadata": {},
   "outputs": [
    {
     "name": "stdout",
     "output_type": "stream",
     "text": [
      "librosa 0.10.1\n",
      "torch 2.0.1+cu118\n",
      "numpy 1.24.1\n",
      "tqdm 4.66.1\n",
      "lightning 2.2.2\n",
      "torchmetrics 1.3.2\n",
      "sklearn 1.3.2\n",
      "Python 3.11\n"
     ]
    }
   ],
   "source": [
    "import matplotlib\n",
    "import sklearn\n",
    "import sys\n",
    "\n",
    "print('librosa',librosa.__version__)\n",
    "print('torch',torch.__version__)\n",
    "print('numpy',np.__version__)\n",
    "print('tqdm',tqdm.__version__)\n",
    "print('lightning',L.__version__)\n",
    "print('torchmetrics',torchmetrics.__version__)\n",
    "print('sklearn',sklearn.__version__)\n",
    "print(\"Python {}.{}\".format(sys.version_info.major,sys.version_info.minor))"
   ]
  },
  {
   "cell_type": "code",
   "execution_count": 2,
   "metadata": {},
   "outputs": [],
   "source": [
    "#dataset\n",
    "class Audio_dataset(Dataset):\n",
    "    def __init__(self, dir_path, dataset_sampling_rate, anomaly_dir_path = None, anomaly_ratio = None,transform=None, target_transform=None):\n",
    "        # self.dataset_sampling_rate = 22050\n",
    "        self.dir_path = dir_path\n",
    "        self.dataset_sampling_rate = dataset_sampling_rate\n",
    "        self.transform = transform\n",
    "        self.target_transform = target_transform\n",
    "        self.file_names = os.listdir(self.dir_path)\n",
    "        self.last_idx = len(self.file_names)\n",
    "\n",
    "        self.anomaly_recorded_path_dir =r\"datasets\\anomalies\\nagrane\"\n",
    "        self.anomaly_recorded_file_names = os.listdir(self.anomaly_recorded_path_dir)\n",
    "        self.anomaly_speech_path_dir =r\"datasets\\kaggle\\LJ_Speech_dataset\\archive\\LJSpeech-1.1\\wavs\"\n",
    "        self.anomaly_speech_file_names = os.listdir(self.anomaly_speech_path_dir)\n",
    "\n",
    "        self.anomaly_uderzenie_path = r\"datasets\\anomalies\\nagrane_podzielone\\uderzenie\"\n",
    "        self.anomaly_uderzenie_file_names = os.listdir(self.anomaly_uderzenie_path)\n",
    "        self.anomaly_dmuchniecie_path = r\"datasets\\anomalies\\nagrane_podzielone\\dmuchniecie\"\n",
    "        self.anomaly_dmuchniecie_file_names = os.listdir(self.anomaly_dmuchniecie_path)\n",
    "        self.anomaly_losowe_path = r\"datasets\\anomalies\\nagrane_podzielone\\losowe\"\n",
    "        self.anomaly_losowe_file_names = os.listdir(self.anomaly_losowe_path)\n",
    "\n",
    "        self.lables = {\n",
    "            0:torch.tensor([1,0,0,0,0], dtype=torch.float32),\n",
    "            1:torch.tensor([0,1,0,0,0], dtype=torch.float32),\n",
    "            2:torch.tensor([0,0,1,0,0], dtype=torch.float32),\n",
    "            3:torch.tensor([0,0,0,1,0], dtype=torch.float32),\n",
    "            4:torch.tensor([0,0,0,0,1], dtype=torch.float32),\n",
    "            torch.tensor([1,0,0,0,0], dtype=torch.float32):0,\n",
    "            torch.tensor([0,1,0,0,0], dtype=torch.float32):1,\n",
    "            torch.tensor([0,0,1,0,0], dtype=torch.float32):2,\n",
    "            torch.tensor([0,0,0,1,0], dtype=torch.float32):3,\n",
    "            torch.tensor([0,0,0,0,1], dtype=torch.float32):4,\n",
    "        }\n",
    "\n",
    "    def __len__(self):\n",
    "        return len(self.file_names)\n",
    "\n",
    "    def __getitem__(self, idx):\n",
    "        anomaly_type = random.sample((0,1,2,3,4),2)\n",
    "        data, sr, cqt_1 = self.pipeline(idx, anomaly_type=anomaly_type[0])\n",
    "        _, _, cqt_2 = self.pipeline(random.randint(0, self.last_idx - 1), anomaly_type=anomaly_type[1])\n",
    "        _, _, anchor = self.pipeline(random.randint(0, self.last_idx - 1), anomaly_type=anomaly_type[0])\n",
    "        label1 = self.lables[anomaly_type[0]]\n",
    "        label2 = self.lables[anomaly_type[1]]\n",
    "\n",
    "        return anchor, cqt_1, cqt_2, label1, label2, data, sr\n",
    "\n",
    "    def make_cqt(self, data):\n",
    "        C = librosa.cqt(data, sr=self.dataset_sampling_rate)\n",
    "        cqt = librosa.power_to_db(np.abs(C)**2)\n",
    "        cqt = np.array(cqt, dtype='float32')\n",
    "        return cqt\n",
    "    \n",
    "    def cut_data(self, data):\n",
    "        # the furthest possible sample to slice\n",
    "        end_point = len(data) - self.dataset_sampling_rate\n",
    "        # generate first sample to start slicing\n",
    "        start_point = random.randint(0, end_point)\n",
    "        # slice 1s of data\n",
    "        data = data[start_point:start_point + self.dataset_sampling_rate]\n",
    "        return data\n",
    "    \n",
    "    def load_data(self,id):\n",
    "        file_path = os.path.join(self.dir_path, self.file_names[id])\n",
    "        data, sr = librosa.load(file_path, sr=self.dataset_sampling_rate)\n",
    "        return data, sr\n",
    "    \n",
    "    def cut_noise(self, data):\n",
    "        data_intervals = librosa.effects.split(y=data,frame_length=512, hop_length=128, top_db=48)\n",
    "        data = np.concatenate([data[s[0]:s[1]] for s in data_intervals])\n",
    "        return data\n",
    "    \n",
    "    def pipeline(self, id, anomaly_type):\n",
    "        data_raw, sr = self.load_data(id)\n",
    "        data = self.cut_data(data_raw)\n",
    "        if anomaly_type != 4:\n",
    "            data = self.add_anomaly(data, sr, anomaly_type)\n",
    "        cqt  = self.make_cqt(data)\n",
    "        cqt = np.abs((cqt+80)/80)\n",
    "        cqt = cqt.reshape((1, cqt.shape[0], cqt.shape[1]))\n",
    "        return data, sr, cqt\n",
    "    \n",
    "    def add_anomaly(self, data, sr, anomaly_type):\n",
    "        if anomaly_type == 0:\n",
    "            anomaly_recorded_id = random.randint(0, len(self.anomaly_uderzenie_file_names)-1)\n",
    "            anomaly_file_path = os.path.join(self.anomaly_uderzenie_path, self.anomaly_uderzenie_file_names[anomaly_recorded_id])\n",
    "            anomaly_file_data_raw, _ = librosa.load(anomaly_file_path, sr=sr)\n",
    "\n",
    "            max_starting_sample = len(data) - len(anomaly_file_data_raw)\n",
    "            start = random.randint(0, max_starting_sample-1)\n",
    "\n",
    "            for i in range(len(anomaly_file_data_raw)):\n",
    "                data[start] += anomaly_file_data_raw[i]*2.5\n",
    "                start += 1\n",
    "\n",
    "        if anomaly_type == 1:\n",
    "            anomaly_recorded_id = random.randint(0, len(self.anomaly_dmuchniecie_file_names)-1)\n",
    "            anomaly_file_path = os.path.join(self.anomaly_dmuchniecie_path, self.anomaly_dmuchniecie_file_names[anomaly_recorded_id])\n",
    "            anomaly_file_data_raw, _ = librosa.load(anomaly_file_path, sr=sr)\n",
    "\n",
    "            max_starting_sample = len(data) - len(anomaly_file_data_raw)\n",
    "            start = random.randint(0, max_starting_sample-1)\n",
    "\n",
    "            for i in range(len(anomaly_file_data_raw)):\n",
    "                data[start] += anomaly_file_data_raw[i]*2.5\n",
    "                start += 1\n",
    "\n",
    "        if anomaly_type == 2:\n",
    "            anomaly_recorded_id = random.randint(0, len(self.anomaly_losowe_file_names)-1)\n",
    "            anomaly_file_path = os.path.join(self.anomaly_losowe_path, self.anomaly_losowe_file_names[anomaly_recorded_id])\n",
    "            anomaly_file_data_raw, _ = librosa.load(anomaly_file_path, sr=sr)\n",
    "\n",
    "            max_starting_sample = len(data) - len(anomaly_file_data_raw)\n",
    "            start = random.randint(0, max_starting_sample-1)\n",
    "\n",
    "            for i in range(len(anomaly_file_data_raw)):\n",
    "                data[start] += anomaly_file_data_raw[i]*2.5\n",
    "                start += 1\n",
    "\n",
    "        elif anomaly_type == 3:\n",
    "            anomaly_recorded_id = random.randint(0, len(self.anomaly_speech_file_names)-1)\n",
    "            anomaly_file_path = os.path.join(self.anomaly_speech_path_dir, self.anomaly_speech_file_names[anomaly_recorded_id])\n",
    "            anomaly_file_data_raw, _ = librosa.load(anomaly_file_path, sr=sr)\n",
    "            anomaly_data_intervals = librosa.effects.split(y=anomaly_file_data_raw,frame_length=512, hop_length=128, top_db=48)\n",
    "            anomaly_data = np.concatenate([anomaly_file_data_raw[s[0]:s[1]] for s in anomaly_data_intervals])\n",
    "\n",
    "            anomaly_start_sample = random.randint(0, int(sr/2)-1)\n",
    "            anomaly_length = random.randint(int(sr/4), int(sr/2)-1)\n",
    "            anomaly_data = anomaly_data[anomaly_start_sample: anomaly_start_sample + anomaly_length]\n",
    "\n",
    "            max_starting_sample = len(data) - len(anomaly_data)\n",
    "            start = random.randint(0, max_starting_sample-1)\n",
    "            for i in range(len(anomaly_data)):\n",
    "                anomaly_data[i] /= 2\n",
    "                data[start] += anomaly_data[i]\n",
    "                start += 1\n",
    "        \n",
    "        return data"
   ]
  },
  {
   "cell_type": "code",
   "execution_count": 3,
   "metadata": {},
   "outputs": [],
   "source": [
    "#model\n",
    "class Audio_conv(nn.Module):\n",
    "    def __init__(self, margin, *args, **kwargs) -> None:\n",
    "        super().__init__(*args, **kwargs)\n",
    "        self.conv1 = nn.Conv2d(1, 16, 3, 1, 'same')\n",
    "        self.pool = nn.MaxPool2d(2,2)\n",
    "        self.conv2 = nn.Conv2d(16, 64, 3, 1, 'same')\n",
    "        self.conv3 = nn.Conv2d(64, 64, 5, 1, 'same')\n",
    "        self.conv4 = nn.Conv2d(64, 128, 3, 1, 'same')\n",
    "        \n",
    "        self.self_attn = nn.MultiheadAttention(128, 16, batch_first=True)\n",
    "\n",
    "        self.fc1 = nn.Linear(6400, 1024)\n",
    "        self.fc2 = nn.Linear(1024, 256)\n",
    "        self.fc3 = nn.Linear(256, 128)\n",
    "        self.fc4 = nn.Linear(128, 6)\n",
    "\n",
    "        self.margin = margin\n",
    "\n",
    "    def forward(self,x):\n",
    "        #conv\n",
    "        x_conv  = self.conv1(x)\n",
    "        x_conv  = F.leaky_relu(x_conv)\n",
    "        x_conv  = self.pool(x_conv )\n",
    "\n",
    "        x_conv  = self.conv2(x_conv )\n",
    "        x_conv  = F.leaky_relu(x_conv )\n",
    "        x_conv  = self.pool(x_conv )\n",
    "\n",
    "        x_conv  = self.conv3(x_conv )\n",
    "        x_conv  = F.leaky_relu(x_conv )\n",
    "\n",
    "        x_conv  = self.conv4(x_conv )\n",
    "        x_conv  = F.leaky_relu(x_conv )\n",
    "        x_conv  = self.pool(x_conv )\n",
    "\n",
    "        #attention\n",
    "        x_conv  = x_conv.permute(0, 2, 3, 1)\n",
    "        batch_size, height, width, feature_dim = x_conv.size()\n",
    "        x_conv = x_conv.reshape(batch_size, height * width, feature_dim)\n",
    "        attn_output, _ = self.self_attn(x_conv, x_conv, x_conv)\n",
    "        attn_output = attn_output.reshape(batch_size, height, width, feature_dim)\n",
    "        attn_output = attn_output.permute(0, 3, 1, 2)\n",
    "\n",
    "        #fully connected\n",
    "        x_fc = torch.flatten(attn_output, 1)\n",
    "        x_fc = self.fc1(x_fc)\n",
    "        x_fc  = F.relu(x_fc) \n",
    "        x_fc = self.fc2(x_fc)\n",
    "        x_fc  = F.relu(x_fc)\n",
    "        x_fc = self.fc3(x_fc)\n",
    "        x_fc  = F.relu(x_fc)\n",
    "        x_fc = self.fc4(x_fc)\n",
    "        # x_fc = F.softmax(x_fc, dim=1)\n",
    "\n",
    "        return x_fc"
   ]
  },
  {
   "cell_type": "code",
   "execution_count": 4,
   "metadata": {},
   "outputs": [],
   "source": [
    "class Lit_wrapper(L.LightningModule):\n",
    "    def __init__(self, model):\n",
    "        super().__init__()\n",
    "        self.model = model\n",
    "        self.loss_fn = torch.nn.TripletMarginLoss()\n",
    "\n",
    "    def training_step(self, batch, batch_idx):\n",
    "        # training_step defines the train loop.\n",
    "        # it is independent of forward\n",
    "        x1, x2, x3, _, _ = batch\n",
    "        output1 = self.model(x1)\n",
    "        output2 = self.model(x2)\n",
    "        output3 = self.model(x3)\n",
    "        loss = self.loss_fn(output1,output2,output3)\n",
    "        self.log(\"train_loss\", loss)\n",
    "        return loss\n",
    "    \n",
    "    def on_test_start(self):\n",
    "         self.test_step_outputs = []\n",
    "\n",
    "    def test_step(self, batch, batch_idx):\n",
    "        # training_step defines the train loop.\n",
    "        # it is independent of forward\n",
    "        _, x1, x2, y1, y2, _, _ = batch\n",
    "        output1 = self.model(x1)\n",
    "        self.test_step_outputs.append(output1)\n",
    "    \n",
    "    def on_test_end(self):\n",
    "        self.test_outputs = torch.stack(self.test_step_outputs)\n",
    "\n",
    "    def validation_step(self, batch, batch_idx):\n",
    "        # this is the validation loop\n",
    "        x1, x2, x3, _, _ = batch\n",
    "        output1 = self.model(x1)\n",
    "        output2 = self.model(x2)\n",
    "        output3 = self.model(x3)\n",
    "        loss = self.loss_fn(output1,output2,output3)\n",
    "        self.log(\"val_loss\", loss)\n",
    "        return loss\n",
    "\n",
    "    def configure_optimizers(self):\n",
    "        optimizer = torch.optim.Adam(self.parameters(), lr=1e-3)\n",
    "        return optimizer\n",
    "    \n",
    "    def loss_func(self, output1, output2):\n",
    "        loss, pos_accu, neg_accu= 0, 0, 0\n",
    "        size = len(output1)\n",
    "        for i in range(0, size, 2):\n",
    "            pos_dis = output1[i] - output1[i+1]\n",
    "            pos = torch.linalg.vector_norm(pos_dis)\n",
    "            pos_accu += pos\n",
    "            neg_dis = output2[i] - output2[i+1]\n",
    "            neg = torch.linalg.vector_norm(neg_dis)\n",
    "            neg_accu += neg\n",
    "            partial_losses = pos + np.maximum(0, self.model.margin - neg.item())\n",
    "            loss += torch.mean(partial_losses)\n",
    "        return loss, pos_accu, neg_accu\n",
    "    \n",
    "    def loss_func_euclidean(self, output1, output2):\n",
    "        loss, pos_accu, neg_accu= 0, 0, 0\n",
    "        size = len(output1)\n",
    "        for i in range(0, size, 2):\n",
    "            pos_dis = F.pairwise_distance(output1[i], output1[i+1])\n",
    "            neg_dis = F.pairwise_distance(output2[i], output2[i+1])\n",
    "            loss += pos_dis + np.maximum(0, self.model.margin - neg_dis.item())\n",
    "            pos_accu += pos_dis\n",
    "            neg_accu += neg_dis\n",
    "        return loss, pos_accu, neg_accu"
   ]
  },
  {
   "cell_type": "code",
   "execution_count": null,
   "metadata": {},
   "outputs": [],
   "source": [
    "#setup\n",
    "checkpoint_callback = L.pytorch.callbacks.ModelCheckpoint(\n",
    "    dirpath='models/top',\n",
    "    filename='{epoch}-{val_loss:.2f}-',\n",
    "    monitor='val_loss',\n",
    "    save_top_k = 1\n",
    ")\n",
    "\n",
    "early_stopping_callback = L.pytorch.callbacks.early_stopping.EarlyStopping(\n",
    "    monitor='val_loss',\n",
    "    mode='min'\n",
    ")\n",
    "\n",
    "\n",
    "dir_path = r\"datasets\\kaggle\\Merged\"\n",
    "sr = 22050\n",
    "dataset = Audio_dataset(dir_path, sr)\n",
    "train, val = torch.utils.data.random_split(dataset, [0.8, 0.2])\n",
    "train_dataloader = DataLoader(train, batch_size=4, shuffle=True)\n",
    "val_dataset = Audio_dataset(r\"datasets\\kaggle\\merged_2_speakers_test\", sr)\n",
    "val_dataloader = DataLoader(val_dataset, batch_size=4, shuffle=False)\n",
    "test_dataloader = DataLoader(val_dataset, batch_size=1, shuffle=False)\n",
    "test, debug = torch.utils.data.random_split(val, [0.99, 0.01])\n",
    "debug_dataloader = DataLoader(debug, batch_size=1, shuffle=False)\n",
    "torch.set_float32_matmul_precision('medium')\n",
    "\n",
    "\n",
    "\n",
    "trainer = L.Trainer(\n",
    "    max_epochs=30, \n",
    "    # gradient_clip_val=1, \n",
    "    callbacks=[checkpoint_callback, early_stopping_callback],\n",
    "    # check_val_every_n_epoch=1\n",
    "    )"
   ]
  },
  {
   "cell_type": "code",
   "execution_count": 22,
   "metadata": {},
   "outputs": [],
   "source": [
    "audio_conv = Audio_conv(margin=1)\n",
    "checkpoint = torch.load('base.pt')\n",
    "list_of_params = []\n",
    "list_of_params_full = []\n",
    "for i in checkpoint.state_dict().keys():\n",
    "    list_of_params.append(i[6:])\n",
    "    list_of_params_full.append(i)\n",
    "\n",
    "weights = {k:checkpoint.state_dict()[f] for k,f in zip(list_of_params,list_of_params_full)}\n",
    "audio_conv.load_state_dict(weights)\n",
    "model = Lit_wrapper(audio_conv)"
   ]
  },
  {
   "cell_type": "code",
   "execution_count": 7,
   "metadata": {},
   "outputs": [],
   "source": [
    "class Detector(nn.Module):\n",
    "    def __init__(self, model):\n",
    "        super().__init__()\n",
    "        self.model = model\n",
    "        self.fc = nn.Linear(6, 5)\n",
    "        \n",
    "    def forward(self, x):\n",
    "        x_backbone= self.model(x)\n",
    "        x = self.fc(x_backbone)\n",
    "        x = F.sigmoid(x)\n",
    "        return x, x_backbone"
   ]
  },
  {
   "cell_type": "code",
   "execution_count": 8,
   "metadata": {},
   "outputs": [],
   "source": [
    "class Detector_wrapper(L.LightningModule):\n",
    "    def __init__(self, model):\n",
    "        super().__init__()\n",
    "        self.model = model\n",
    "        self.loss_fn = torch.nn.MSELoss()\n",
    "        self.score = []\n",
    "        self.f1 = torchmetrics.F1Score(task='multiclass', num_classes=2)\n",
    "\n",
    "    def on_train_start(self):\n",
    "        self.tensors_train = []\n",
    "        self.labels_train = []\n",
    "        \n",
    "    def training_step(self, batch, batch_idx):\n",
    "        # training_step defines the train loop.\n",
    "        # it is independent of forward\n",
    "        _, x1, x2, y1, y2, _, _ = batch\n",
    "        output, backbone = self.model(x1)\n",
    "        self.tensors_train.append(backbone)\n",
    "        self.labels_train.append(y1)\n",
    "        loss = self.loss_fn(output, y1)\n",
    "        self.log(\"train_detector_loss\", loss)\n",
    "        return loss\n",
    "    \n",
    "    def on_train_end(self):\n",
    "        self.train_tensors_end = torch.stack((self.tensors_train))\n",
    "        self.train_labels_end = torch.stack((self.labels_train))\n",
    "\n",
    "    def on_test_start(self):\n",
    "         self.score = []\n",
    "         self.outputs_tensors = []\n",
    "         self.outputs_target = []\n",
    "         self.outputs_preds = []\n",
    "    \n",
    "    def test_step(self, batch, batch_idx):\n",
    "        # training_step defines the train loop.\n",
    "        # it is independent of forward\n",
    "        _, x1, x2, y1, y2, _, _= batch\n",
    "        output, _ = self.model(x1)\n",
    "        preds = torch.argmax(output,dim=1)\n",
    "        target = torch.argmax(y1,dim=1)\n",
    "        score = self.f1(preds, target)\n",
    "        self.score.append(score)\n",
    "        self.outputs_tensors.append(output)\n",
    "        self.outputs_preds.append(preds)\n",
    "        self.outputs_target.append(target)\n",
    "\n",
    "    def on_test_end(self):\n",
    "        self.test_outputs = torch.stack(self.score)\n",
    "        self.test_outputs_tensors = torch.stack(self.outputs_tensors)\n",
    "        self.outputs_preds = torch.stack(self.outputs_preds)\n",
    "        self.outputs_target = torch.stack(self.outputs_target)\n",
    "\n",
    "    def validation_step(self, batch, batch_idx):\n",
    "        # this is the validation loop\n",
    "        _, x1, x2, y1, y2,  _, _ = batch\n",
    "        output, backbone = self.model(x1)\n",
    "        loss = self.loss_fn(output, y1)\n",
    "        self.log(\"val_detector_loss\", loss)\n",
    "        return loss\n",
    "\n",
    "    def configure_optimizers(self):\n",
    "        optimizer = torch.optim.Adam(self.parameters(), lr=1e-4)\n",
    "        return optimizer"
   ]
  },
  {
   "cell_type": "code",
   "execution_count": 23,
   "metadata": {},
   "outputs": [],
   "source": [
    "detector = Detector(audio_conv)\n",
    "anomaly_detector = Detector_wrapper(detector)"
   ]
  },
  {
   "cell_type": "code",
   "execution_count": 24,
   "metadata": {},
   "outputs": [],
   "source": [
    "# if true load model from given path\n",
    "if False:\n",
    "    checkpoint = torch.load('referencja.pt')\n",
    "    list_of_params = []\n",
    "    list_of_params_full = []\n",
    "    for i in checkpoint.state_dict().keys():\n",
    "        list_of_params.append(i[6:])\n",
    "        list_of_params_full.append(i)\n",
    "\n",
    "    weights = {k:checkpoint.state_dict()[f] for k,f in zip(list_of_params,list_of_params_full)}\n",
    "    detector.load_state_dict(weights)\n",
    "    anomaly_detector = Detector_wrapper(detector)"
   ]
  },
  {
   "cell_type": "code",
   "execution_count": 11,
   "metadata": {},
   "outputs": [
    {
     "name": "stderr",
     "output_type": "stream",
     "text": [
      "GPU available: True (cuda), used: True\n",
      "TPU available: False, using: 0 TPU cores\n",
      "IPU available: False, using: 0 IPUs\n",
      "HPU available: False, using: 0 HPUs\n"
     ]
    }
   ],
   "source": [
    "early_stopping_callback = L.pytorch.callbacks.early_stopping.EarlyStopping(\n",
    "    monitor='val_detector_loss',\n",
    "    mode='min'\n",
    ")\n",
    "\n",
    "trainer_detector = L.Trainer(\n",
    "    max_epochs=3,\n",
    "    # callbacks=[early_stopping_callback]\n",
    "    )"
   ]
  },
  {
   "cell_type": "code",
   "execution_count": null,
   "metadata": {},
   "outputs": [],
   "source": [
    "start = time.time()\n",
    "trainer_detector.fit(anomaly_detector, train_dataloaders=train_dataloader, val_dataloaders=val_dataloader)\n",
    "print(time.time() - start)"
   ]
  },
  {
   "cell_type": "code",
   "execution_count": null,
   "metadata": {},
   "outputs": [],
   "source": [
    "start = time.time()\n",
    "trainer_detector.test(anomaly_detector, dataloaders=test_dataloader)\n",
    "print(time.time() - start)"
   ]
  },
  {
   "cell_type": "code",
   "execution_count": 13,
   "metadata": {},
   "outputs": [
    {
     "data": {
      "image/png": "[encoded data removed]",
      "text/plain": [
       "<Figure size 800x600 with 2 Axes>"
      ]
     },
     "metadata": {},
     "output_type": "display_data"
    }
   ],
   "source": [
    "from sklearn.manifold import TSNE\n",
    "output = anomaly_detector.test_outputs_tensors.cpu()\n",
    "output = torch.squeeze(output)\n",
    "tsne = TSNE(n_components=2, random_state=42, perplexity=30)\n",
    "components = tsne.fit_transform(output)\n",
    "\n",
    "labels = anomaly_detector.outputs_target\n",
    "labels = torch.squeeze(labels)\n",
    "labels = labels.cpu().numpy()\n",
    "\n",
    "plt.figure(figsize=(8, 6))\n",
    "plt.scatter(components[:, 0], components[:, 1], cmap='viridis', c=labels)\n",
    "plt.colorbar()\n",
    "plt.title('t-SNE Visualization of Model Output')\n",
    "plt.xlabel('t-SNE Component 1')\n",
    "plt.ylabel('t-SNE Component 2')\n",
    "plt.show()"
   ]
  },
  {
   "cell_type": "code",
   "execution_count": 14,
   "metadata": {},
   "outputs": [
    {
     "name": "stdout",
     "output_type": "stream",
     "text": [
      "0.6929288439204155\n",
      "0.7681159420289855\n"
     ]
    }
   ],
   "source": [
    "labels = anomaly_detector.outputs_target\n",
    "labels = torch.squeeze(labels)\n",
    "labels = labels.cpu().numpy()\n",
    "\n",
    "preds = anomaly_detector.outputs_preds\n",
    "preds = torch.squeeze(preds)\n",
    "preds = preds.cpu().numpy()\n",
    "\n",
    "print(f1_score(labels, preds, average='weighted'))\n",
    "print(accuracy_score(labels, preds))"
   ]
  },
  {
   "cell_type": "code",
   "execution_count": 16,
   "metadata": {},
   "outputs": [
    {
     "name": "stdout",
     "output_type": "stream",
     "text": [
      "model size: 27.094MB\n"
     ]
    }
   ],
   "source": [
    "param_size = 0\n",
    "for param in anomaly_detector.parameters():\n",
    "    param_size += param.nelement() * param.element_size()\n",
    "buffer_size = 0\n",
    "for buffer in anomaly_detector.buffers():\n",
    "    buffer_size += buffer.nelement() * buffer.element_size()\n",
    "\n",
    "size_all_mb = (param_size + buffer_size) / 1024**2\n",
    "print('model size: {:.3f}MB'.format(size_all_mb))"
   ]
  },
  {
   "cell_type": "code",
   "execution_count": 29,
   "metadata": {},
   "outputs": [],
   "source": [
    "parameters_to_prune = (\n",
    "    (anomaly_detector.model.model.conv1, 'weight'),\n",
    "    (anomaly_detector.model.model.conv2, 'weight'),\n",
    "    (anomaly_detector.model.model.conv3, 'weight'),\n",
    "    (anomaly_detector.model.model.conv4, 'weight'),\n",
    "    (anomaly_detector.model.model.fc1, 'weight'),\n",
    "    (anomaly_detector.model.model.fc2, 'weight'),\n",
    "    (anomaly_detector.model.model.fc3, 'weight'),\n",
    "    (anomaly_detector.model.model.fc4, 'weight'),\n",
    "    (anomaly_detector.model.model.conv1, 'bias'),\n",
    "    (anomaly_detector.model.model.conv2, 'bias'),\n",
    "    (anomaly_detector.model.model.conv3, 'bias'),\n",
    "    (anomaly_detector.model.model.conv4, 'bias'),\n",
    "    (anomaly_detector.model.model.fc1, 'bias'),\n",
    "    (anomaly_detector.model.model.fc2, 'bias'),\n",
    "    (anomaly_detector.model.model.fc3, 'bias'),\n",
    "    (anomaly_detector.model.model.fc4, 'bias'),\n",
    ")"
   ]
  },
  {
   "cell_type": "code",
   "execution_count": 30,
   "metadata": {},
   "outputs": [],
   "source": [
    "prune.global_unstructured(\n",
    "    parameters_to_prune,\n",
    "    pruning_method=prune.L1Unstructured,\n",
    "    amount=0.2,\n",
    ")"
   ]
  },
  {
   "cell_type": "code",
   "execution_count": 31,
   "metadata": {},
   "outputs": [
    {
     "name": "stdout",
     "output_type": "stream",
     "text": [
      "Sparsity in conv1.weight: 1.39%\n",
      "Sparsity in conv2.weight: 7.73%\n",
      "Sparsity in conv3.weight: 18.42%\n",
      "Sparsity in conv4.weight: 13.56%\n",
      "Sparsity in fc1.weight: 20.17%\n",
      "Sparsity in fc2.weight: 19.78%\n",
      "Sparsity in fc3.weight: 10.86%\n",
      "Sparsity in fc4.weight: 8.07%\n"
     ]
    }
   ],
   "source": [
    "print(\n",
    "    \"Sparsity in conv1.weight: {:.2f}%\".format(\n",
    "        100. * float(torch.sum(anomaly_detector.model.model.conv1.weight == 0))\n",
    "        / float(anomaly_detector.model.model.conv1.weight.nelement())\n",
    "    )\n",
    ")\n",
    "print(\n",
    "    \"Sparsity in conv2.weight: {:.2f}%\".format(\n",
    "        100. * float(torch.sum(anomaly_detector.model.model.conv2.weight == 0))\n",
    "        / float(anomaly_detector.model.model.conv2.weight.nelement())\n",
    "    )\n",
    ")\n",
    "print(\n",
    "    \"Sparsity in conv3.weight: {:.2f}%\".format(\n",
    "        100. * float(torch.sum(anomaly_detector.model.model.conv3.weight == 0))\n",
    "        / float(anomaly_detector.model.model.conv3.weight.nelement())\n",
    "    )\n",
    ")\n",
    "print(\n",
    "    \"Sparsity in conv4.weight: {:.2f}%\".format(\n",
    "        100. * float(torch.sum(anomaly_detector.model.model.conv4.weight == 0))\n",
    "        / float(anomaly_detector.model.model.conv4.weight.nelement())\n",
    "    )\n",
    ")\n",
    "print(\n",
    "    \"Sparsity in fc1.weight: {:.2f}%\".format(\n",
    "        100. * float(torch.sum(anomaly_detector.model.model.fc1.weight == 0))\n",
    "        / float(anomaly_detector.model.model.fc1.weight.nelement())\n",
    "    )\n",
    ")\n",
    "print(\n",
    "    \"Sparsity in fc2.weight: {:.2f}%\".format(\n",
    "        100. * float(torch.sum(anomaly_detector.model.model.fc2.weight == 0))\n",
    "        / float(anomaly_detector.model.model.fc2.weight.nelement())\n",
    "    )\n",
    ")\n",
    "print(\n",
    "    \"Sparsity in fc3.weight: {:.2f}%\".format(\n",
    "        100. * float(torch.sum(anomaly_detector.model.model.fc3.weight == 0))\n",
    "        / float(anomaly_detector.model.model.fc3.weight.nelement())\n",
    "    )\n",
    ")\n",
    "print(\n",
    "    \"Sparsity in fc4.weight: {:.2f}%\".format(\n",
    "        100. * float(torch.sum(anomaly_detector.model.model.fc4.weight == 0))\n",
    "        / float(anomaly_detector.model.model.fc4.weight.nelement())\n",
    "    )\n",
    ")"
   ]
  },
  {
   "cell_type": "code",
   "execution_count": 32,
   "metadata": {},
   "outputs": [
    {
     "name": "stderr",
     "output_type": "stream",
     "text": [
      "GPU available: True (cuda), used: True\n",
      "TPU available: False, using: 0 TPU cores\n",
      "IPU available: False, using: 0 IPUs\n",
      "HPU available: False, using: 0 HPUs\n"
     ]
    }
   ],
   "source": [
    "trainer_detector = L.Trainer(\n",
    "    max_epochs=1,\n",
    "    # callbacks=[early_stopping_callback]\n",
    "    )"
   ]
  },
  {
   "cell_type": "code",
   "execution_count": null,
   "metadata": {},
   "outputs": [],
   "source": [
    "start = time.time()\n",
    "trainer_detector.fit(anomaly_detector, train_dataloaders=train_dataloader, val_dataloaders=val_dataloader)\n",
    "print(time.time() - start)"
   ]
  },
  {
   "cell_type": "code",
   "execution_count": 34,
   "metadata": {},
   "outputs": [],
   "source": [
    "for module in parameters_to_prune:\n",
    "    prune.remove(module[0], module[1])"
   ]
  },
  {
   "cell_type": "code",
   "execution_count": null,
   "metadata": {},
   "outputs": [],
   "source": [
    "start = time.time()\n",
    "trainer_detector.test(anomaly_detector, dataloaders=test_dataloader)\n",
    "print(time.time() - start)"
   ]
  },
  {
   "cell_type": "code",
   "execution_count": 25,
   "metadata": {},
   "outputs": [
    {
     "data": {
      "image/png": "[encoded data removed]",
      "text/plain": [
       "<Figure size 800x600 with 2 Axes>"
      ]
     },
     "metadata": {},
     "output_type": "display_data"
    }
   ],
   "source": [
    "from sklearn.manifold import TSNE\n",
    "output = anomaly_detector.test_outputs_tensors.cpu()\n",
    "output = torch.squeeze(output)\n",
    "tsne = TSNE(n_components=2, random_state=42, perplexity=30)\n",
    "components = tsne.fit_transform(output)\n",
    "\n",
    "labels = anomaly_detector.outputs_target\n",
    "labels = torch.squeeze(labels)\n",
    "labels = labels.cpu().numpy()\n",
    "\n",
    "plt.figure(figsize=(8, 6))\n",
    "plt.scatter(components[:, 0], components[:, 1], cmap='viridis', c=labels)\n",
    "plt.colorbar()\n",
    "plt.title('t-SNE Visualization of Model Output')\n",
    "plt.xlabel('t-SNE Component 1')\n",
    "plt.ylabel('t-SNE Component 2')\n",
    "plt.show()"
   ]
  },
  {
   "cell_type": "code",
   "execution_count": 26,
   "metadata": {},
   "outputs": [
    {
     "name": "stdout",
     "output_type": "stream",
     "text": [
      "0.6212261178238591\n",
      "0.7065217391304348\n"
     ]
    }
   ],
   "source": [
    "labels = anomaly_detector.outputs_target\n",
    "labels = torch.squeeze(labels)\n",
    "labels = labels.cpu().numpy()\n",
    "\n",
    "preds = anomaly_detector.outputs_preds\n",
    "preds = torch.squeeze(preds)\n",
    "preds = preds.cpu().numpy()\n",
    "\n",
    "print(f1_score(labels, preds, average='weighted'))\n",
    "print(accuracy_score(labels, preds))"
   ]
  },
  {
   "cell_type": "code",
   "execution_count": 27,
   "metadata": {},
   "outputs": [
    {
     "name": "stdout",
     "output_type": "stream",
     "text": [
      "model size: 27.094MB\n"
     ]
    }
   ],
   "source": [
    "param_size = 0\n",
    "for param in anomaly_detector.parameters():\n",
    "    param_size += param.nelement() * param.element_size()\n",
    "buffer_size = 0\n",
    "for buffer in anomaly_detector.buffers():\n",
    "    buffer_size += buffer.nelement() * buffer.element_size()\n",
    "\n",
    "size_all_mb = (param_size + buffer_size) / 1024**2\n",
    "print('model size: {:.3f}MB'.format(size_all_mb))"
   ]
  },
  {
   "cell_type": "code",
   "execution_count": 38,
   "metadata": {},
   "outputs": [],
   "source": [
    "torch.save(anomaly_detector,'pruned.pt')"
   ]
  },
  {
   "cell_type": "code",
   "execution_count": 17,
   "metadata": {},
   "outputs": [],
   "source": [
    "def get_gzipped_model_size(file):\n",
    "  # Returns size of gzipped model, in bytes.\n",
    "  import os\n",
    "  import zipfile\n",
    "  import tempfile\n",
    "\n",
    "  _, zipped_file = tempfile.mkstemp('.zip')\n",
    "  with zipfile.ZipFile(zipped_file, 'w', compression=zipfile.ZIP_DEFLATED) as f:\n",
    "    f.write(file)\n",
    "\n",
    "  return os.path.getsize(zipped_file)"
   ]
  },
  {
   "cell_type": "code",
   "execution_count": 39,
   "metadata": {},
   "outputs": [
    {
     "name": "stdout",
     "output_type": "stream",
     "text": [
      "Rozmiar podstawowego modelu: 27153296.00 bytes\n",
      "Rozmiar skompresowanego modelu: 22863788.00 bytes\n",
      "Stopień kompresji = 1.187611\n"
     ]
    }
   ],
   "source": [
    "base_model_size = get_gzipped_model_size('referencja.pt')\n",
    "pruned_model_size = get_gzipped_model_size('pruned.pt')\n",
    "\n",
    "print(\"Rozmiar podstawowego modelu: %.2f bytes\" % (base_model_size))\n",
    "print(\"Rozmiar skompresowanego modelu: %.2f bytes\" % (pruned_model_size))\n",
    "\n",
    "print(\"Stopień kompresji = %f\" %(base_model_size / pruned_model_size))"
   ]
  },
  {
   "cell_type": "code",
   "execution_count": 36,
   "metadata": {},
   "outputs": [],
   "source": [
    "from torch.quantization import quantize_dynamic\n",
    "model_quantized = quantize_dynamic(\n",
    "    model=detector.to('cpu'), qconfig_spec={nn.Conv2d, nn.Linear}, dtype=torch.qint8, inplace=False\n",
    ")"
   ]
  },
  {
   "cell_type": "code",
   "execution_count": 64,
   "metadata": {},
   "outputs": [
    {
     "name": "stdout",
     "output_type": "stream",
     "text": [
      "Rozmiar podstawowego modelu: 27153296.00 bytes\n",
      "Rozmiar skompresowanego modelu: 5626979.00 bytes\n",
      "Stopień kompresji = 4.825555\n"
     ]
    }
   ],
   "source": [
    "pruned_and_quant_model_size = get_gzipped_model_size('kwantyzacja.pt')\n",
    "\n",
    "print(\"Rozmiar podstawowego modelu: %.2f bytes\" % (base_model_size))\n",
    "print(\"Rozmiar skompresowanego modelu: %.2f bytes\" % (pruned_and_quant_model_size))\n",
    "\n",
    "print(\"Stopień kompresji = %f\" %(base_model_size / pruned_and_quant_model_size))"
   ]
  },
  {
   "cell_type": "code",
   "execution_count": 37,
   "metadata": {},
   "outputs": [
    {
     "name": "stdout",
     "output_type": "stream",
     "text": [
      "33.7252140045166\n"
     ]
    }
   ],
   "source": [
    "start = time.time()\n",
    "score = []\n",
    "outputs_tensors = []\n",
    "outputs_preds = []\n",
    "outputs_target = []\n",
    "model_quantized.to('cpu')\n",
    "for batch in test_dataloader:\n",
    "    batch\n",
    "    _, x1, x2, y1, y2, _, _= batch\n",
    "    output, _ = model_quantized(x1)\n",
    "    preds = torch.argmax(output,dim=1)\n",
    "    target = torch.argmax(y1,dim=1)\n",
    "    f1 = anomaly_detector.f1(preds, target)\n",
    "    score.append(f1)\n",
    "    outputs_tensors.append(output)\n",
    "    outputs_preds.append(preds)\n",
    "    outputs_target.append(target)\n",
    "print(time.time() - start)"
   ]
  },
  {
   "cell_type": "code",
   "execution_count": 100,
   "metadata": {},
   "outputs": [],
   "source": [
    "test_outputs = torch.stack(score)\n",
    "test_outputs_tensors = torch.stack(outputs_tensors)\n",
    "outputs_preds = torch.stack(outputs_preds)\n",
    "outputs_target = torch.stack(outputs_target)"
   ]
  },
  {
   "cell_type": "code",
   "execution_count": 102,
   "metadata": {},
   "outputs": [
    {
     "data": {
      "image/png": "[encoded data removed]",
      "text/plain": [
       "<Figure size 800x600 with 2 Axes>"
      ]
     },
     "metadata": {},
     "output_type": "display_data"
    }
   ],
   "source": [
    "from sklearn.manifold import TSNE\n",
    "output = test_outputs_tensors.cpu()\n",
    "output = torch.squeeze(output)\n",
    "tsne = TSNE(n_components=2, random_state=42, perplexity=30)\n",
    "components = tsne.fit_transform(output)\n",
    "\n",
    "labels = outputs_target\n",
    "labels = torch.squeeze(labels)\n",
    "labels = labels.cpu().numpy()\n",
    "\n",
    "plt.figure(figsize=(8, 6))\n",
    "plt.scatter(components[:, 0], components[:, 1], cmap='viridis', c=labels)\n",
    "plt.colorbar()\n",
    "plt.title('t-SNE Visualization of Model Output')\n",
    "plt.xlabel('t-SNE Component 1')\n",
    "plt.ylabel('t-SNE Component 2')\n",
    "plt.show()"
   ]
  },
  {
   "cell_type": "code",
   "execution_count": 103,
   "metadata": {},
   "outputs": [
    {
     "name": "stdout",
     "output_type": "stream",
     "text": [
      "0.717018703384697\n",
      "0.7789855072463768\n"
     ]
    }
   ],
   "source": [
    "labels = outputs_target\n",
    "labels = torch.squeeze(labels)\n",
    "labels = labels.cpu().numpy()\n",
    "\n",
    "preds = outputs_preds\n",
    "preds = torch.squeeze(preds)\n",
    "preds = preds.cpu().numpy()\n",
    "\n",
    "print(f1_score(labels, preds, average='weighted'))\n",
    "print(accuracy_score(labels, preds))"
   ]
  }
 ],
 "metadata": {
  "kernelspec": {
   "display_name": "Python 3",
   "language": "python",
   "name": "python3"
  },
  "language_info": {
   "codemirror_mode": {
    "name": "ipython",
    "version": 3
   },
   "file_extension": ".py",
   "mimetype": "text/x-python",
   "name": "python",
   "nbconvert_exporter": "python",
   "pygments_lexer": "ipython3",
   "version": "3.11.5"
  }
 },
 "nbformat": 4,
 "nbformat_minor": 2
}
